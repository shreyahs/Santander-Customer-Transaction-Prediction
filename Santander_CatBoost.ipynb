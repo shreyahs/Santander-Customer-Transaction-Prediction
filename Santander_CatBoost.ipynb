{
 "cells": [
  {
   "cell_type": "code",
   "execution_count": 3,
   "metadata": {},
   "outputs": [
    {
     "name": "stdout",
     "output_type": "stream",
     "text": [
      "Collecting catboost\n",
      "\u001b[?25l  Downloading https://files.pythonhosted.org/packages/ad/30/a6178a9b6b5a9d9f91f6fee423e68d0545330f1c690fe419e59a3da6a38a/catboost-0.18.1-cp36-none-manylinux1_x86_64.whl (62.9MB)\n",
      "\u001b[K     |████████████████████████████████| 62.9MB 177kB/s eta 0:00:01\n",
      "\u001b[?25hRequirement already satisfied: scipy in /home/ec2-user/anaconda3/envs/python3/lib/python3.6/site-packages (from catboost) (1.1.0)\n",
      "Collecting graphviz\n",
      "  Downloading https://files.pythonhosted.org/packages/f5/74/dbed754c0abd63768d3a7a7b472da35b08ac442cf87d73d5850a6f32391e/graphviz-0.13.2-py2.py3-none-any.whl\n",
      "Requirement already satisfied: six in /home/ec2-user/anaconda3/envs/python3/lib/python3.6/site-packages (from catboost) (1.11.0)\n",
      "Requirement already satisfied: matplotlib in /home/ec2-user/anaconda3/envs/python3/lib/python3.6/site-packages (from catboost) (3.0.3)\n",
      "Requirement already satisfied: plotly in /home/ec2-user/anaconda3/envs/python3/lib/python3.6/site-packages (from catboost) (4.2.1)\n",
      "Collecting numpy>=1.16.0\n",
      "\u001b[?25l  Downloading https://files.pythonhosted.org/packages/d2/ab/43e678759326f728de861edbef34b8e2ad1b1490505f20e0d1f0716c3bf4/numpy-1.17.4-cp36-cp36m-manylinux1_x86_64.whl (20.0MB)\n",
      "\u001b[K     |████████████████████████████████| 20.0MB 34.3MB/s eta 0:00:01     |██████████████████████████████▋ | 19.2MB 34.3MB/s eta 0:00:01\n",
      "\u001b[?25hRequirement already satisfied: pandas>=0.24.0 in /home/ec2-user/anaconda3/envs/python3/lib/python3.6/site-packages (from catboost) (0.24.2)\n",
      "Requirement already satisfied: python-dateutil>=2.1 in /home/ec2-user/anaconda3/envs/python3/lib/python3.6/site-packages (from matplotlib->catboost) (2.7.3)\n",
      "Requirement already satisfied: pyparsing!=2.0.4,!=2.1.2,!=2.1.6,>=2.0.1 in /home/ec2-user/anaconda3/envs/python3/lib/python3.6/site-packages (from matplotlib->catboost) (2.2.0)\n",
      "Requirement already satisfied: cycler>=0.10 in /home/ec2-user/anaconda3/envs/python3/lib/python3.6/site-packages (from matplotlib->catboost) (0.10.0)\n",
      "Requirement already satisfied: kiwisolver>=1.0.1 in /home/ec2-user/anaconda3/envs/python3/lib/python3.6/site-packages (from matplotlib->catboost) (1.0.1)\n",
      "Requirement already satisfied: retrying>=1.3.3 in /home/ec2-user/anaconda3/envs/python3/lib/python3.6/site-packages (from plotly->catboost) (1.3.3)\n",
      "Requirement already satisfied: pytz>=2011k in /home/ec2-user/anaconda3/envs/python3/lib/python3.6/site-packages (from pandas>=0.24.0->catboost) (2018.4)\n",
      "Requirement already satisfied: setuptools in /home/ec2-user/anaconda3/envs/python3/lib/python3.6/site-packages (from kiwisolver>=1.0.1->matplotlib->catboost) (39.1.0)\n",
      "Installing collected packages: graphviz, numpy, catboost\n",
      "  Found existing installation: numpy 1.14.3\n",
      "    Uninstalling numpy-1.14.3:\n",
      "      Successfully uninstalled numpy-1.14.3\n",
      "Successfully installed catboost-0.18.1 graphviz-0.13.2 numpy-1.17.4\n"
     ]
    }
   ],
   "source": [
    "!pip install catboost"
   ]
  },
  {
   "cell_type": "code",
   "execution_count": 1,
   "metadata": {},
   "outputs": [],
   "source": [
    "import pandas as pd\n",
    "import numpy as np\n",
    "from sklearn.model_selection import train_test_split\n",
    "from sklearn.model_selection import StratifiedKFold\n",
    "import seaborn as sns\n",
    "import matplotlib.pyplot as plt\n",
    "%matplotlib inline\n",
    "sns.set()\n",
    "from catboost import CatBoostClassifier\n",
    "from sklearn.model_selection import GridSearchCV\n",
    "from sklearn.metrics import roc_auc_score"
   ]
  },
  {
   "cell_type": "code",
   "execution_count": 2,
   "metadata": {},
   "outputs": [
    {
     "data": {
      "text/plain": [
       "(200000, 202)"
      ]
     },
     "execution_count": 2,
     "metadata": {},
     "output_type": "execute_result"
    }
   ],
   "source": [
    "data_train = pd.read_csv(\"/home/ec2-user/SageMaker/train.csv\")\n",
    "data_test = pd.read_csv(\"/home/ec2-user/SageMaker/test.csv\")\n",
    "data_train.shape"
   ]
  },
  {
   "cell_type": "code",
   "execution_count": 3,
   "metadata": {},
   "outputs": [
    {
     "data": {
      "text/plain": [
       "(200000, 202)"
      ]
     },
     "execution_count": 3,
     "metadata": {},
     "output_type": "execute_result"
    }
   ],
   "source": [
    "data_train.shape"
   ]
  },
  {
   "cell_type": "code",
   "execution_count": 4,
   "metadata": {},
   "outputs": [
    {
     "data": {
      "text/plain": [
       "0"
      ]
     },
     "execution_count": 4,
     "metadata": {},
     "output_type": "execute_result"
    }
   ],
   "source": [
    "data_train.isnull().sum().sum()"
   ]
  },
  {
   "cell_type": "code",
   "execution_count": 5,
   "metadata": {},
   "outputs": [
    {
     "name": "stdout",
     "output_type": "stream",
     "text": [
      "(200000, 200) (200000,)\n"
     ]
    }
   ],
   "source": [
    "X_train = data_train.drop(columns=['ID_code','target'])\n",
    "y_train= data_train['target']\n",
    "print(X_train.shape,y_train.shape)"
   ]
  },
  {
   "cell_type": "code",
   "execution_count": 6,
   "metadata": {},
   "outputs": [
    {
     "name": "stdout",
     "output_type": "stream",
     "text": [
      "(200000, 200)\n"
     ]
    }
   ],
   "source": [
    "X_test = data_test.drop(columns=['ID_code'])\n",
    "print(X_test.shape)"
   ]
  },
  {
   "cell_type": "code",
   "execution_count": 7,
   "metadata": {},
   "outputs": [
    {
     "data": {
      "text/html": [
       "<div>\n",
       "<style scoped>\n",
       "    .dataframe tbody tr th:only-of-type {\n",
       "        vertical-align: middle;\n",
       "    }\n",
       "\n",
       "    .dataframe tbody tr th {\n",
       "        vertical-align: top;\n",
       "    }\n",
       "\n",
       "    .dataframe thead th {\n",
       "        text-align: right;\n",
       "    }\n",
       "</style>\n",
       "<table border=\"1\" class=\"dataframe\">\n",
       "  <thead>\n",
       "    <tr style=\"text-align: right;\">\n",
       "      <th></th>\n",
       "      <th>var_0</th>\n",
       "      <th>var_1</th>\n",
       "      <th>var_2</th>\n",
       "      <th>var_3</th>\n",
       "      <th>var_4</th>\n",
       "      <th>var_5</th>\n",
       "      <th>var_6</th>\n",
       "      <th>var_7</th>\n",
       "      <th>var_8</th>\n",
       "      <th>var_9</th>\n",
       "      <th>...</th>\n",
       "      <th>var_190</th>\n",
       "      <th>var_191</th>\n",
       "      <th>var_192</th>\n",
       "      <th>var_193</th>\n",
       "      <th>var_194</th>\n",
       "      <th>var_195</th>\n",
       "      <th>var_196</th>\n",
       "      <th>var_197</th>\n",
       "      <th>var_198</th>\n",
       "      <th>var_199</th>\n",
       "    </tr>\n",
       "  </thead>\n",
       "  <tbody>\n",
       "    <tr>\n",
       "      <th>0</th>\n",
       "      <td>8.9255</td>\n",
       "      <td>-6.7863</td>\n",
       "      <td>11.9081</td>\n",
       "      <td>5.0930</td>\n",
       "      <td>11.4607</td>\n",
       "      <td>-9.2834</td>\n",
       "      <td>5.1187</td>\n",
       "      <td>18.6266</td>\n",
       "      <td>-4.9200</td>\n",
       "      <td>5.7470</td>\n",
       "      <td>...</td>\n",
       "      <td>4.4354</td>\n",
       "      <td>3.9642</td>\n",
       "      <td>3.1364</td>\n",
       "      <td>1.6910</td>\n",
       "      <td>18.5227</td>\n",
       "      <td>-2.3978</td>\n",
       "      <td>7.8784</td>\n",
       "      <td>8.5635</td>\n",
       "      <td>12.7803</td>\n",
       "      <td>-1.0914</td>\n",
       "    </tr>\n",
       "    <tr>\n",
       "      <th>1</th>\n",
       "      <td>11.5006</td>\n",
       "      <td>-4.1473</td>\n",
       "      <td>13.8588</td>\n",
       "      <td>5.3890</td>\n",
       "      <td>12.3622</td>\n",
       "      <td>7.0433</td>\n",
       "      <td>5.6208</td>\n",
       "      <td>16.5338</td>\n",
       "      <td>3.1468</td>\n",
       "      <td>8.0851</td>\n",
       "      <td>...</td>\n",
       "      <td>7.6421</td>\n",
       "      <td>7.7214</td>\n",
       "      <td>2.5837</td>\n",
       "      <td>10.9516</td>\n",
       "      <td>15.4305</td>\n",
       "      <td>2.0339</td>\n",
       "      <td>8.1267</td>\n",
       "      <td>8.7889</td>\n",
       "      <td>18.3560</td>\n",
       "      <td>1.9518</td>\n",
       "    </tr>\n",
       "    <tr>\n",
       "      <th>2</th>\n",
       "      <td>8.6093</td>\n",
       "      <td>-2.7457</td>\n",
       "      <td>12.0805</td>\n",
       "      <td>7.8928</td>\n",
       "      <td>10.5825</td>\n",
       "      <td>-9.0837</td>\n",
       "      <td>6.9427</td>\n",
       "      <td>14.6155</td>\n",
       "      <td>-4.9193</td>\n",
       "      <td>5.9525</td>\n",
       "      <td>...</td>\n",
       "      <td>2.9057</td>\n",
       "      <td>9.7905</td>\n",
       "      <td>1.6704</td>\n",
       "      <td>1.6858</td>\n",
       "      <td>21.6042</td>\n",
       "      <td>3.1417</td>\n",
       "      <td>-6.5213</td>\n",
       "      <td>8.2675</td>\n",
       "      <td>14.7222</td>\n",
       "      <td>0.3965</td>\n",
       "    </tr>\n",
       "    <tr>\n",
       "      <th>3</th>\n",
       "      <td>11.0604</td>\n",
       "      <td>-2.1518</td>\n",
       "      <td>8.9522</td>\n",
       "      <td>7.1957</td>\n",
       "      <td>12.5846</td>\n",
       "      <td>-1.8361</td>\n",
       "      <td>5.8428</td>\n",
       "      <td>14.9250</td>\n",
       "      <td>-5.8609</td>\n",
       "      <td>8.2450</td>\n",
       "      <td>...</td>\n",
       "      <td>4.4666</td>\n",
       "      <td>4.7433</td>\n",
       "      <td>0.7178</td>\n",
       "      <td>1.4214</td>\n",
       "      <td>23.0347</td>\n",
       "      <td>-1.2706</td>\n",
       "      <td>-2.9275</td>\n",
       "      <td>10.2922</td>\n",
       "      <td>17.9697</td>\n",
       "      <td>-8.9996</td>\n",
       "    </tr>\n",
       "    <tr>\n",
       "      <th>4</th>\n",
       "      <td>9.8369</td>\n",
       "      <td>-1.4834</td>\n",
       "      <td>12.8746</td>\n",
       "      <td>6.6375</td>\n",
       "      <td>12.2772</td>\n",
       "      <td>2.4486</td>\n",
       "      <td>5.9405</td>\n",
       "      <td>19.2514</td>\n",
       "      <td>6.2654</td>\n",
       "      <td>7.6784</td>\n",
       "      <td>...</td>\n",
       "      <td>-1.4905</td>\n",
       "      <td>9.5214</td>\n",
       "      <td>-0.1508</td>\n",
       "      <td>9.1942</td>\n",
       "      <td>13.2876</td>\n",
       "      <td>-1.5121</td>\n",
       "      <td>3.9267</td>\n",
       "      <td>9.5031</td>\n",
       "      <td>17.9974</td>\n",
       "      <td>-8.8104</td>\n",
       "    </tr>\n",
       "  </tbody>\n",
       "</table>\n",
       "<p>5 rows × 200 columns</p>\n",
       "</div>"
      ],
      "text/plain": [
       "     var_0   var_1    var_2   var_3    var_4   var_5   var_6    var_7   var_8  \\\n",
       "0   8.9255 -6.7863  11.9081  5.0930  11.4607 -9.2834  5.1187  18.6266 -4.9200   \n",
       "1  11.5006 -4.1473  13.8588  5.3890  12.3622  7.0433  5.6208  16.5338  3.1468   \n",
       "2   8.6093 -2.7457  12.0805  7.8928  10.5825 -9.0837  6.9427  14.6155 -4.9193   \n",
       "3  11.0604 -2.1518   8.9522  7.1957  12.5846 -1.8361  5.8428  14.9250 -5.8609   \n",
       "4   9.8369 -1.4834  12.8746  6.6375  12.2772  2.4486  5.9405  19.2514  6.2654   \n",
       "\n",
       "    var_9  ...  var_190  var_191  var_192  var_193  var_194  var_195  var_196  \\\n",
       "0  5.7470  ...   4.4354   3.9642   3.1364   1.6910  18.5227  -2.3978   7.8784   \n",
       "1  8.0851  ...   7.6421   7.7214   2.5837  10.9516  15.4305   2.0339   8.1267   \n",
       "2  5.9525  ...   2.9057   9.7905   1.6704   1.6858  21.6042   3.1417  -6.5213   \n",
       "3  8.2450  ...   4.4666   4.7433   0.7178   1.4214  23.0347  -1.2706  -2.9275   \n",
       "4  7.6784  ...  -1.4905   9.5214  -0.1508   9.1942  13.2876  -1.5121   3.9267   \n",
       "\n",
       "   var_197  var_198  var_199  \n",
       "0   8.5635  12.7803  -1.0914  \n",
       "1   8.7889  18.3560   1.9518  \n",
       "2   8.2675  14.7222   0.3965  \n",
       "3  10.2922  17.9697  -8.9996  \n",
       "4   9.5031  17.9974  -8.8104  \n",
       "\n",
       "[5 rows x 200 columns]"
      ]
     },
     "execution_count": 7,
     "metadata": {},
     "output_type": "execute_result"
    }
   ],
   "source": [
    "X_train.head()"
   ]
  },
  {
   "cell_type": "code",
   "execution_count": 8,
   "metadata": {},
   "outputs": [],
   "source": [
    "train_correlations = X_train.corr()\n",
    "test_correlations = X_test.corr()\n",
    "train_correlations = train_correlations.values.flatten()\n",
    "test_correlations = test_correlations.values.flatten()\n",
    "train_correlations = train_correlations[train_correlations != 1]\n",
    "test_correlations = test_correlations[test_correlations != 1]"
   ]
  },
  {
   "cell_type": "code",
   "execution_count": 9,
   "metadata": {},
   "outputs": [
    {
     "name": "stderr",
     "output_type": "stream",
     "text": [
      "/home/ec2-user/anaconda3/envs/python3/lib/python3.6/site-packages/scipy/stats/stats.py:1713: FutureWarning: Using a non-tuple sequence for multidimensional indexing is deprecated; use `arr[tuple(seq)]` instead of `arr[seq]`. In the future this will be interpreted as an array index, `arr[np.array(seq)]`, which will result either in an error or a different result.\n",
      "  return np.add.reduce(sorted[indexer] * weights, axis=axis) / sumval\n",
      "/home/ec2-user/anaconda3/envs/python3/lib/python3.6/site-packages/matplotlib/axes/_axes.py:6521: MatplotlibDeprecationWarning: \n",
      "The 'normed' kwarg was deprecated in Matplotlib 2.1 and will be removed in 3.1. Use 'density' instead.\n",
      "  alternative=\"'density'\", removal=\"3.1\")\n",
      "/home/ec2-user/anaconda3/envs/python3/lib/python3.6/site-packages/matplotlib/axes/_axes.py:6521: MatplotlibDeprecationWarning: \n",
      "The 'normed' kwarg was deprecated in Matplotlib 2.1 and will be removed in 3.1. Use 'density' instead.\n",
      "  alternative=\"'density'\", removal=\"3.1\")\n"
     ]
    },
    {
     "data": {
      "image/png": "[encoded data removed]",
      "text/plain": [
       "<Figure size 1440x360 with 1 Axes>"
      ]
     },
     "metadata": {},
     "output_type": "display_data"
    }
   ],
   "source": [
    "plt.figure(figsize=(20,5))\n",
    "sns.distplot(train_correlations, color=\"Red\", label=\"train\")\n",
    "sns.distplot(test_correlations, color=\"Green\", label=\"test\")\n",
    "plt.xlabel(\"Correlation values (Train and Test Except one) \")\n",
    "plt.ylabel(\"Density\")\n",
    "plt.title(\"correlation between features\"); \n",
    "plt.legend();"
   ]
  },
  {
   "cell_type": "code",
   "execution_count": 10,
   "metadata": {},
   "outputs": [],
   "source": [
    "idx = features = X_train.columns.values\n",
    "for df in [X_test, X_train]:\n",
    "    df['sum'] = df[idx].sum(axis=1)  \n",
    "    df['min'] = df[idx].min(axis=1)\n",
    "    df['max'] = df[idx].max(axis=1)\n",
    "    df['mean'] = df[idx].mean(axis=1)\n",
    "    df['std'] = df[idx].std(axis=1)\n",
    "    df['skew'] = df[idx].skew(axis=1)\n",
    "    df['kurt'] = df[idx].kurtosis(axis=1)\n",
    "    df['med'] = df[idx].median(axis=1)"
   ]
  },
  {
   "cell_type": "code",
   "execution_count": 11,
   "metadata": {},
   "outputs": [
    {
     "data": {
      "text/plain": [
       "(200000, 208)"
      ]
     },
     "execution_count": 11,
     "metadata": {},
     "output_type": "execute_result"
    }
   ],
   "source": [
    "X_train.shape"
   ]
  },
  {
   "cell_type": "code",
   "execution_count": 12,
   "metadata": {},
   "outputs": [
    {
     "data": {
      "text/plain": [
       "(200000, 208)"
      ]
     },
     "execution_count": 12,
     "metadata": {},
     "output_type": "execute_result"
    }
   ],
   "source": [
    "X_test.shape"
   ]
  },
  {
   "cell_type": "code",
   "execution_count": 13,
   "metadata": {},
   "outputs": [
    {
     "name": "stdout",
     "output_type": "stream",
     "text": [
      "208\n"
     ]
    }
   ],
   "source": [
    "features =  X_train.columns.values\n",
    "print(len(features))"
   ]
  },
  {
   "cell_type": "code",
   "execution_count": 14,
   "metadata": {},
   "outputs": [],
   "source": [
    "clf = CatBoostClassifier(loss_function=\"Logloss\",\n",
    "                           eval_metric=\"AUC\",\n",
    "                           learning_rate=0.1,\n",
    "                           iterations=1000,\n",
    "                           random_seed=42,\n",
    "                           od_type=\"Iter\",\n",
    "                           depth=4,\n",
    "                           early_stopping_rounds=500,\n",
    "                           border_count=250,\n",
    "                           l2_leaf_reg = 1,\n",
    "                           verbose=5000\n",
    "                          )"
   ]
  },
  {
   "cell_type": "code",
   "execution_count": 18,
   "metadata": {},
   "outputs": [],
   "source": [
    "folds_cb = StratifiedKFold(n_splits=10, shuffle=False, random_state=44000)\n",
    "predictions_cb = np.zeros(len(X_test))\n",
    "oof_cb = np.zeros(len(X_train))"
   ]
  },
  {
   "cell_type": "code",
   "execution_count": 19,
   "metadata": {},
   "outputs": [
    {
     "name": "stdout",
     "output_type": "stream",
     "text": [
      "Fold 0\n",
      "0:\ttest: 0.5425082\tbest: 0.5425082 (0)\ttotal: 114ms\tremaining: 1m 53s\n",
      "200:\ttest: 0.8623739\tbest: 0.8623739 (200)\ttotal: 20.7s\tremaining: 1m 22s\n",
      "400:\ttest: 0.8819966\tbest: 0.8819966 (400)\ttotal: 42s\tremaining: 1m 2s\n",
      "600:\ttest: 0.8899936\tbest: 0.8899936 (600)\ttotal: 1m 3s\tremaining: 42.1s\n",
      "800:\ttest: 0.8930838\tbest: 0.8930977 (799)\ttotal: 1m 24s\tremaining: 21s\n",
      "999:\ttest: 0.8951576\tbest: 0.8951576 (999)\ttotal: 1m 47s\tremaining: 0us\n",
      "\n",
      "bestTest = 0.895157612\n",
      "bestIteration = 999\n",
      "\n",
      "Score:0.8951576119734826 \n",
      "Fold 1\n",
      "0:\ttest: 0.5350843\tbest: 0.5350843 (0)\ttotal: 113ms\tremaining: 1m 53s\n",
      "200:\ttest: 0.8637425\tbest: 0.8637425 (200)\ttotal: 20.8s\tremaining: 1m 22s\n",
      "400:\ttest: 0.8831244\tbest: 0.8831244 (400)\ttotal: 41.9s\tremaining: 1m 2s\n",
      "600:\ttest: 0.8901557\tbest: 0.8901557 (600)\ttotal: 1m 3s\tremaining: 42s\n",
      "800:\ttest: 0.8936662\tbest: 0.8936662 (800)\ttotal: 1m 24s\tremaining: 21.1s\n",
      "999:\ttest: 0.8954992\tbest: 0.8955023 (996)\ttotal: 1m 46s\tremaining: 0us\n",
      "\n",
      "bestTest = 0.8955023117\n",
      "bestIteration = 996\n",
      "\n",
      "Shrink model to first 997 iterations.\n",
      "Score:0.8955023116865232 \n",
      "Fold 2\n",
      "0:\ttest: 0.5440205\tbest: 0.5440205 (0)\ttotal: 104ms\tremaining: 1m 43s\n",
      "200:\ttest: 0.8618900\tbest: 0.8618900 (200)\ttotal: 20.7s\tremaining: 1m 22s\n",
      "400:\ttest: 0.8790760\tbest: 0.8790948 (399)\ttotal: 41.9s\tremaining: 1m 2s\n",
      "600:\ttest: 0.8859553\tbest: 0.8859553 (600)\ttotal: 1m 4s\tremaining: 43s\n",
      "800:\ttest: 0.8889002\tbest: 0.8889002 (800)\ttotal: 1m 26s\tremaining: 21.4s\n",
      "999:\ttest: 0.8906838\tbest: 0.8907352 (994)\ttotal: 1m 47s\tremaining: 0us\n",
      "\n",
      "bestTest = 0.8907351514\n",
      "bestIteration = 994\n",
      "\n",
      "Shrink model to first 995 iterations.\n",
      "Score:0.8907351513693346 \n",
      "Fold 3\n",
      "0:\ttest: 0.5476344\tbest: 0.5476344 (0)\ttotal: 105ms\tremaining: 1m 44s\n",
      "200:\ttest: 0.8661507\tbest: 0.8661507 (200)\ttotal: 20.6s\tremaining: 1m 22s\n",
      "400:\ttest: 0.8862969\tbest: 0.8862969 (400)\ttotal: 41.9s\tremaining: 1m 2s\n",
      "600:\ttest: 0.8921072\tbest: 0.8921416 (597)\ttotal: 1m 3s\tremaining: 42s\n",
      "800:\ttest: 0.8948015\tbest: 0.8948127 (799)\ttotal: 1m 24s\tremaining: 21.1s\n",
      "999:\ttest: 0.8960934\tbest: 0.8960934 (999)\ttotal: 1m 45s\tremaining: 0us\n",
      "\n",
      "bestTest = 0.896093352\n",
      "bestIteration = 999\n",
      "\n",
      "Score:0.8960933520280754 \n",
      "Fold 4\n",
      "0:\ttest: 0.5648573\tbest: 0.5648573 (0)\ttotal: 104ms\tremaining: 1m 43s\n",
      "200:\ttest: 0.8666589\tbest: 0.8666589 (200)\ttotal: 21.9s\tremaining: 1m 26s\n",
      "400:\ttest: 0.8857727\tbest: 0.8857727 (400)\ttotal: 43s\tremaining: 1m 4s\n",
      "600:\ttest: 0.8919126\tbest: 0.8919126 (600)\ttotal: 1m 4s\tremaining: 42.8s\n",
      "800:\ttest: 0.8946595\tbest: 0.8946595 (800)\ttotal: 1m 25s\tremaining: 21.3s\n",
      "999:\ttest: 0.8960646\tbest: 0.8960749 (995)\ttotal: 1m 47s\tremaining: 0us\n",
      "\n",
      "bestTest = 0.8960749062\n",
      "bestIteration = 995\n",
      "\n",
      "Shrink model to first 996 iterations.\n",
      "Score:0.8960749061806034 \n",
      "Fold 5\n",
      "0:\ttest: 0.5400657\tbest: 0.5400657 (0)\ttotal: 105ms\tremaining: 1m 45s\n",
      "200:\ttest: 0.8699033\tbest: 0.8699033 (200)\ttotal: 20.7s\tremaining: 1m 22s\n",
      "400:\ttest: 0.8892390\tbest: 0.8892609 (399)\ttotal: 42s\tremaining: 1m 2s\n",
      "600:\ttest: 0.8960840\tbest: 0.8960840 (600)\ttotal: 1m 3s\tremaining: 42.1s\n",
      "800:\ttest: 0.8987419\tbest: 0.8988077 (797)\ttotal: 1m 26s\tremaining: 21.4s\n",
      "999:\ttest: 0.8999909\tbest: 0.9000262 (989)\ttotal: 1m 47s\tremaining: 0us\n",
      "\n",
      "bestTest = 0.9000261892\n",
      "bestIteration = 989\n",
      "\n",
      "Shrink model to first 990 iterations.\n",
      "Score:0.9000261892317181 \n",
      "Fold 6\n",
      "0:\ttest: 0.5509191\tbest: 0.5509191 (0)\ttotal: 105ms\tremaining: 1m 45s\n",
      "200:\ttest: 0.8684492\tbest: 0.8684492 (200)\ttotal: 20.6s\tremaining: 1m 22s\n",
      "400:\ttest: 0.8872141\tbest: 0.8872244 (399)\ttotal: 41.9s\tremaining: 1m 2s\n",
      "600:\ttest: 0.8934893\tbest: 0.8934893 (600)\ttotal: 1m 3s\tremaining: 42s\n",
      "800:\ttest: 0.8955545\tbest: 0.8955698 (784)\ttotal: 1m 24s\tremaining: 21s\n",
      "999:\ttest: 0.8965943\tbest: 0.8965997 (998)\ttotal: 1m 45s\tremaining: 0us\n",
      "\n",
      "bestTest = 0.8965996864\n",
      "bestIteration = 998\n",
      "\n",
      "Shrink model to first 999 iterations.\n",
      "Score:0.896599686392938 \n",
      "Fold 7\n",
      "0:\ttest: 0.5379386\tbest: 0.5379386 (0)\ttotal: 103ms\tremaining: 1m 43s\n",
      "200:\ttest: 0.8652503\tbest: 0.8652623 (199)\ttotal: 20.6s\tremaining: 1m 22s\n",
      "400:\ttest: 0.8843272\tbest: 0.8843272 (400)\ttotal: 43.2s\tremaining: 1m 4s\n",
      "600:\ttest: 0.8900151\tbest: 0.8900263 (599)\ttotal: 1m 4s\tremaining: 42.9s\n",
      "800:\ttest: 0.8938064\tbest: 0.8938293 (791)\ttotal: 1m 26s\tremaining: 21.4s\n",
      "999:\ttest: 0.8955971\tbest: 0.8956097 (997)\ttotal: 1m 47s\tremaining: 0us\n",
      "\n",
      "bestTest = 0.8956096671\n",
      "bestIteration = 997\n",
      "\n",
      "Shrink model to first 998 iterations.\n",
      "Score:0.8956096670621324 \n",
      "Fold 8\n",
      "0:\ttest: 0.5569693\tbest: 0.5569693 (0)\ttotal: 104ms\tremaining: 1m 43s\n",
      "200:\ttest: 0.8726068\tbest: 0.8726068 (200)\ttotal: 20.7s\tremaining: 1m 22s\n",
      "400:\ttest: 0.8919038\tbest: 0.8919038 (400)\ttotal: 41.9s\tremaining: 1m 2s\n",
      "600:\ttest: 0.8976698\tbest: 0.8976783 (596)\ttotal: 1m 3s\tremaining: 42s\n",
      "800:\ttest: 0.9007732\tbest: 0.9008028 (797)\ttotal: 1m 24s\tremaining: 21s\n",
      "999:\ttest: 0.9020273\tbest: 0.9020775 (989)\ttotal: 1m 47s\tremaining: 0us\n",
      "\n",
      "bestTest = 0.902077505\n",
      "bestIteration = 989\n",
      "\n",
      "Shrink model to first 990 iterations.\n",
      "Score:0.9020775050350134 \n",
      "Fold 9\n",
      "0:\ttest: 0.5526834\tbest: 0.5526834 (0)\ttotal: 103ms\tremaining: 1m 42s\n",
      "200:\ttest: 0.8691023\tbest: 0.8691023 (200)\ttotal: 20.7s\tremaining: 1m 22s\n",
      "400:\ttest: 0.8865942\tbest: 0.8866365 (399)\ttotal: 42s\tremaining: 1m 2s\n",
      "600:\ttest: 0.8927616\tbest: 0.8927616 (600)\ttotal: 1m 3s\tremaining: 42.1s\n",
      "800:\ttest: 0.8959056\tbest: 0.8959056 (800)\ttotal: 1m 24s\tremaining: 21.1s\n",
      "999:\ttest: 0.8973929\tbest: 0.8973929 (999)\ttotal: 1m 45s\tremaining: 0us\n",
      "\n",
      "bestTest = 0.8973929159\n",
      "bestIteration = 999\n",
      "\n",
      "Score:0.8973929158696925 \n"
     ]
    }
   ],
   "source": [
    "for fold_, (trn_idx, val_idx) in enumerate(folds_cb.split(X_train.values, y_train.values)):\n",
    "    print(\"Fold {}\".format(fold_))\n",
    "    X_trainV =  X_train.iloc[trn_idx] \n",
    "    y_trainV =  y_train.iloc[trn_idx]\n",
    "    X_valV =    X_train.iloc[val_idx]\n",
    "    y_valV = y_train.iloc[val_idx]\n",
    "    \n",
    "\n",
    "    model = clf.fit( X_trainV, y_trainV, eval_set=(X_valV, y_valV),use_best_model=True,verbose=200)\n",
    "    oof_cb[val_idx] = model.predict_proba(X_valV)[:,1]\n",
    "    print( \"Score:{} \".format(roc_auc_score(y_valV, oof_cb[val_idx]) ))\n",
    "    predictions_cb += model.predict_proba(X_test)[:,1]/folds_cb.n_splits\n",
    "    "
   ]
  },
  {
   "cell_type": "code",
   "execution_count": 20,
   "metadata": {},
   "outputs": [
    {
     "name": "stdout",
     "output_type": "stream",
     "text": [
      "CV score: 0.89650 \n"
     ]
    }
   ],
   "source": [
    "print(\"CV score: {:<8.5f}\".format(roc_auc_score(y_train, oof_cb)))"
   ]
  },
  {
   "cell_type": "code",
   "execution_count": 21,
   "metadata": {},
   "outputs": [
    {
     "data": {
      "text/plain": [
       "<matplotlib.axes._subplots.AxesSubplot at 0x7fa98fd5d470>"
      ]
     },
     "execution_count": 21,
     "metadata": {},
     "output_type": "execute_result"
    },
    {
     "data": {
      "image/png": "[encoded data removed]",
      "text/plain": [
       "<Figure size 432x288 with 1 Axes>"
      ]
     },
     "metadata": {},
     "output_type": "display_data"
    }
   ],
   "source": [
    "(pd.Series(model.get_feature_importance(), index=X_train.columns)\n",
    "   .nlargest(20)\n",
    "   .plot(kind='barh'))"
   ]
  },
  {
   "cell_type": "code",
   "execution_count": 22,
   "metadata": {},
   "outputs": [
    {
     "data": {
      "text/plain": [
       "array([1.14738855e+00, 9.91318157e-01, 1.19634026e+00, 9.14603040e-02,\n",
       "       9.09965989e-02, 6.05553404e-01, 1.64941489e+00, 2.01071898e-02,\n",
       "       2.29470246e-01, 8.72486289e-01, 0.00000000e+00, 2.56562172e-01,\n",
       "       1.79631239e+00, 1.22052187e+00, 5.58740779e-02, 1.47895500e-01,\n",
       "       7.91303140e-02, 2.35120936e-03, 8.35873424e-01, 8.38901363e-02,\n",
       "       3.43195745e-01, 1.30022847e+00, 1.36240229e+00, 3.34407372e-01,\n",
       "       4.05061724e-01, 6.56393149e-02, 1.53626088e+00, 0.00000000e+00,\n",
       "       3.15471977e-01, 3.42018465e-02, 1.02595098e-02, 2.98514480e-01,\n",
       "       5.17681065e-01, 1.00316130e+00, 1.14176460e+00, 6.45103984e-01,\n",
       "       6.34547443e-01, 5.83839118e-02, 1.91402519e-02, 1.69505099e-02,\n",
       "       9.96628212e-01, 0.00000000e+00, 1.88067341e-02, 4.34339015e-01,\n",
       "       1.07716232e+00, 2.25806178e-01, 0.00000000e+00, 0.00000000e+00,\n",
       "       4.90203856e-01, 5.21447565e-01, 1.23814058e-01, 4.12143192e-01,\n",
       "       3.85423539e-01, 1.58923120e+00, 1.49796674e-01, 2.19444552e-01,\n",
       "       5.70056738e-01, 1.46984178e-01, 3.38065362e-01, 5.60447585e-02,\n",
       "       9.89295578e-02, 1.55238128e-02, 1.32998131e-01, 1.70814311e-01,\n",
       "       6.40890428e-02, 6.97498805e-02, 2.40453379e-01, 8.26622474e-01,\n",
       "       1.34140839e-01, 1.64467974e-01, 4.04858691e-01, 4.85756552e-01,\n",
       "       1.34299404e-01, 0.00000000e+00, 2.12697699e-01, 6.79263651e-01,\n",
       "       1.37585080e+00, 2.07248050e-01, 1.13597236e+00, 1.08703709e-02,\n",
       "       1.38617246e+00, 2.38967878e+00, 3.33665934e-01, 2.63701827e-01,\n",
       "       2.47385014e-02, 3.33441302e-01, 7.19981416e-01, 6.14595461e-01,\n",
       "       2.69159230e-01, 5.70573447e-01, 4.24061125e-01, 6.82927467e-01,\n",
       "       9.42211544e-01, 5.53412545e-01, 1.02141406e+00, 7.16334412e-01,\n",
       "       0.00000000e+00, 2.51040687e-01, 0.00000000e+00, 1.39091557e+00,\n",
       "       1.19598368e-02, 1.08192327e-01, 2.07184331e-01, 4.10720768e-03,\n",
       "       3.51186569e-01, 2.71315176e-01, 5.35418037e-01, 6.92038753e-01,\n",
       "       1.15863294e+00, 1.22664831e+00, 1.63193402e+00, 3.95646767e-01,\n",
       "       3.88119463e-01, 1.14083312e-01, 3.91097438e-01, 8.97266438e-01,\n",
       "       3.00485875e-01, 6.52410490e-03, 6.59318480e-01, 5.10273149e-01,\n",
       "       6.57642525e-02, 8.25447147e-01, 8.30696685e-01, 7.80253589e-01,\n",
       "       9.85693241e-03, 3.84490512e-01, 1.49585705e-03, 7.35341551e-01,\n",
       "       3.73927115e-01, 2.09652571e-02, 5.34243017e-01, 4.55278138e-01,\n",
       "       4.10273179e-01, 1.11553776e+00, 2.21364365e-01, 3.94767626e-01,\n",
       "       0.00000000e+00, 3.87244119e-01, 1.75366504e-01, 2.02813638e+00,\n",
       "       1.80626766e-01, 5.79492839e-01, 1.70066670e-01, 1.29089760e-01,\n",
       "       2.46855481e-01, 5.02714459e-01, 1.49702693e+00, 6.80643601e-01,\n",
       "       1.11698632e+00, 9.10331362e-01, 4.98561106e-01, 4.09153422e-01,\n",
       "       1.48023485e-01, 5.64640687e-02, 8.95008345e-01, 6.27156656e-01,\n",
       "       2.65596091e-01, 5.60733604e-01, 0.00000000e+00, 1.41468089e-01,\n",
       "       3.56466052e-02, 8.38773094e-03, 4.97003595e-01, 5.20987193e-01,\n",
       "       9.22360344e-01, 1.22800429e+00, 1.31506769e+00, 4.30161904e-01,\n",
       "       1.59922663e-01, 1.01334429e+00, 9.96469826e-01, 1.23742947e-01,\n",
       "       6.96039607e-01, 7.27556854e-01, 1.41461626e+00, 3.28027818e-01,\n",
       "       3.76158672e-02, 8.44207498e-01, 2.48771859e-01, 1.07246240e+00,\n",
       "       5.79759500e-01, 1.20303514e-01, 2.93611286e-02, 0.00000000e+00,\n",
       "       9.65371804e-01, 0.00000000e+00, 4.11320012e-01, 1.48638803e-01,\n",
       "       6.86763660e-01, 2.46444795e-02, 1.23194223e+00, 8.79883176e-01,\n",
       "       7.62034282e-01, 1.64914522e-01, 3.06703437e-01, 3.65700726e-01,\n",
       "       2.92607023e-01, 5.68665994e-01, 1.21355332e+00, 3.61529018e-01,\n",
       "       5.67395755e-02, 2.52850379e-02, 1.04560413e-02, 0.00000000e+00,\n",
       "       8.78587912e-02, 5.03610030e-02, 1.38714275e-01, 4.52553150e-02])"
      ]
     },
     "execution_count": 22,
     "metadata": {},
     "output_type": "execute_result"
    }
   ],
   "source": [
    "clf.get_feature_importance()"
   ]
  },
  {
   "cell_type": "code",
   "execution_count": 24,
   "metadata": {},
   "outputs": [],
   "source": [
    "sub_df = pd.DataFrame({\"ID_code\":data_test[\"ID_code\"].values})\n",
    "sub_df[\"target\"] = predictions_cb\n",
    "sub_df.to_csv(\"CatBoost_final.csv\", index=False)"
   ]
  },
  {
   "cell_type": "code",
   "execution_count": null,
   "metadata": {},
   "outputs": [],
   "source": []
  }
 ],
 "metadata": {
  "kernelspec": {
   "display_name": "Python 3",
   "language": "python",
   "name": "python3"
  },
  "language_info": {
   "codemirror_mode": {
    "name": "ipython",
    "version": 3
   },
   "file_extension": ".py",
   "mimetype": "text/x-python",
   "name": "python",
   "nbconvert_exporter": "python",
   "pygments_lexer": "ipython3",
   "version": "3.7.1"
  }
 },
 "nbformat": 4,
 "nbformat_minor": 2
}
