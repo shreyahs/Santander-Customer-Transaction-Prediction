{
 "cells": [
  {
   "cell_type": "code",
   "execution_count": 1,
   "metadata": {
    "colab": {},
    "colab_type": "code",
    "id": "SAt3BFG_zIdA"
   },
   "outputs": [
    {
     "name": "stderr",
     "output_type": "stream",
     "text": [
      "/anaconda3/lib/python3.7/site-packages/lightgbm/__init__.py:48: UserWarning: Starting from version 2.2.1, the library file in distribution wheels for macOS is built by the Apple Clang (Xcode_8.3.3) compiler.\n",
      "This means that in case of installing LightGBM from PyPI via the ``pip install lightgbm`` command, you don't need to install the gcc compiler anymore.\n",
      "Instead of that, you need to install the OpenMP library, which is required for running LightGBM on the system with the Apple Clang compiler.\n",
      "You can install the OpenMP library by the following command: ``brew install libomp``.\n",
      "  \"You can install the OpenMP library by the following command: ``brew install libomp``.\", UserWarning)\n"
     ]
    }
   ],
   "source": [
    "import pandas as pd\n",
    "import numpy as np\n",
    "from sklearn.model_selection import train_test_split\n",
    "from sklearn.model_selection import StratifiedKFold\n",
    "import seaborn as sns\n",
    "import matplotlib.pyplot as plt\n",
    "%matplotlib inline\n",
    "sns.set()\n",
    "import lightgbm as lgb\n",
    "import lightgbm\n",
    "from sklearn.metrics import roc_auc_score\n",
    "from sklearn.metrics import roc_curve"
   ]
  },
  {
   "cell_type": "code",
   "execution_count": 2,
   "metadata": {
    "colab": {
     "base_uri": "https://localhost:8080/",
     "height": 34
    },
    "colab_type": "code",
    "executionInfo": {
     "elapsed": 16492,
     "status": "ok",
     "timestamp": 1573441517072,
     "user": {
      "displayName": "Harshitha y",
      "photoUrl": "",
      "userId": "09215560329749583241"
     },
     "user_tz": 480
    },
    "id": "zRh2DEXz5OI0",
    "outputId": "591f2b25-df08-4c7b-d4b6-89f0f11af0e8"
   },
   "outputs": [
    {
     "data": {
      "text/plain": [
       "(200000, 202)"
      ]
     },
     "execution_count": 2,
     "metadata": {},
     "output_type": "execute_result"
    }
   ],
   "source": [
    "data_train = pd.read_csv(\"/Users/Harshitha/Downloads/santander-customer-transaction-prediction/train.csv\")\n",
    "data_test = pd.read_csv(\"/Users/Harshitha/Downloads/santander-customer-transaction-prediction/test.csv\")\n",
    "data_train.shape"
   ]
  },
  {
   "cell_type": "code",
   "execution_count": 3,
   "metadata": {
    "colab": {
     "base_uri": "https://localhost:8080/",
     "height": 34
    },
    "colab_type": "code",
    "executionInfo": {
     "elapsed": 605,
     "status": "ok",
     "timestamp": 1573441520648,
     "user": {
      "displayName": "Harshitha y",
      "photoUrl": "",
      "userId": "09215560329749583241"
     },
     "user_tz": 480
    },
    "id": "UFaVUXQKbCbM",
    "outputId": "8d8dd0f0-be5e-4806-fadf-399503104652"
   },
   "outputs": [
    {
     "data": {
      "text/plain": [
       "(200000, 201)"
      ]
     },
     "execution_count": 3,
     "metadata": {},
     "output_type": "execute_result"
    }
   ],
   "source": [
    "data_test.shape"
   ]
  },
  {
   "cell_type": "code",
   "execution_count": 4,
   "metadata": {
    "colab": {
     "base_uri": "https://localhost:8080/",
     "height": 34
    },
    "colab_type": "code",
    "executionInfo": {
     "elapsed": 666,
     "status": "ok",
     "timestamp": 1573441547421,
     "user": {
      "displayName": "Harshitha y",
      "photoUrl": "",
      "userId": "09215560329749583241"
     },
     "user_tz": 480
    },
    "id": "q2kQPmWY5f7w",
    "outputId": "0d1b5665-dd83-465b-8f69-c37e8369071f"
   },
   "outputs": [
    {
     "data": {
      "text/plain": [
       "0"
      ]
     },
     "execution_count": 4,
     "metadata": {},
     "output_type": "execute_result"
    }
   ],
   "source": [
    "data_train.isnull().sum().sum()"
   ]
  },
  {
   "cell_type": "code",
   "execution_count": 5,
   "metadata": {
    "colab": {
     "base_uri": "https://localhost:8080/",
     "height": 34
    },
    "colab_type": "code",
    "executionInfo": {
     "elapsed": 829,
     "status": "ok",
     "timestamp": 1573441549846,
     "user": {
      "displayName": "Harshitha y",
      "photoUrl": "",
      "userId": "09215560329749583241"
     },
     "user_tz": 480
    },
    "id": "9oVdlOW85pUj",
    "outputId": "a49c156c-67f6-45dc-a632-311ff8899415"
   },
   "outputs": [
    {
     "name": "stdout",
     "output_type": "stream",
     "text": [
      "(200000, 200) (200000,)\n"
     ]
    }
   ],
   "source": [
    "X_train = data_train.drop(columns=['ID_code','target'])\n",
    "y_train= data_train['target']\n",
    "print(X_train.shape,y_train.shape)"
   ]
  },
  {
   "cell_type": "code",
   "execution_count": 6,
   "metadata": {
    "colab": {
     "base_uri": "https://localhost:8080/",
     "height": 34
    },
    "colab_type": "code",
    "executionInfo": {
     "elapsed": 732,
     "status": "ok",
     "timestamp": 1573441561962,
     "user": {
      "displayName": "Harshitha y",
      "photoUrl": "",
      "userId": "09215560329749583241"
     },
     "user_tz": 480
    },
    "id": "4s1Gx_4V52Wc",
    "outputId": "49f86179-4460-45b7-c75f-a98082e6b639"
   },
   "outputs": [
    {
     "name": "stdout",
     "output_type": "stream",
     "text": [
      "(200000, 200)\n"
     ]
    }
   ],
   "source": [
    "X_test = data_test.drop(columns=['ID_code'])\n",
    "print(X_test.shape)"
   ]
  },
  {
   "cell_type": "code",
   "execution_count": 7,
   "metadata": {
    "colab": {
     "base_uri": "https://localhost:8080/",
     "height": 253
    },
    "colab_type": "code",
    "executionInfo": {
     "elapsed": 777,
     "status": "ok",
     "timestamp": 1573441571562,
     "user": {
      "displayName": "Harshitha y",
      "photoUrl": "",
      "userId": "09215560329749583241"
     },
     "user_tz": 480
    },
    "id": "GteAPOkKbQDV",
    "outputId": "0b7e4a51-facb-4a7d-c981-98d437490743"
   },
   "outputs": [
    {
     "data": {
      "text/html": [
       "<div>\n",
       "<style scoped>\n",
       "    .dataframe tbody tr th:only-of-type {\n",
       "        vertical-align: middle;\n",
       "    }\n",
       "\n",
       "    .dataframe tbody tr th {\n",
       "        vertical-align: top;\n",
       "    }\n",
       "\n",
       "    .dataframe thead th {\n",
       "        text-align: right;\n",
       "    }\n",
       "</style>\n",
       "<table border=\"1\" class=\"dataframe\">\n",
       "  <thead>\n",
       "    <tr style=\"text-align: right;\">\n",
       "      <th></th>\n",
       "      <th>var_0</th>\n",
       "      <th>var_1</th>\n",
       "      <th>var_2</th>\n",
       "      <th>var_3</th>\n",
       "      <th>var_4</th>\n",
       "      <th>var_5</th>\n",
       "      <th>var_6</th>\n",
       "      <th>var_7</th>\n",
       "      <th>var_8</th>\n",
       "      <th>var_9</th>\n",
       "      <th>...</th>\n",
       "      <th>var_190</th>\n",
       "      <th>var_191</th>\n",
       "      <th>var_192</th>\n",
       "      <th>var_193</th>\n",
       "      <th>var_194</th>\n",
       "      <th>var_195</th>\n",
       "      <th>var_196</th>\n",
       "      <th>var_197</th>\n",
       "      <th>var_198</th>\n",
       "      <th>var_199</th>\n",
       "    </tr>\n",
       "  </thead>\n",
       "  <tbody>\n",
       "    <tr>\n",
       "      <th>0</th>\n",
       "      <td>8.9255</td>\n",
       "      <td>-6.7863</td>\n",
       "      <td>11.9081</td>\n",
       "      <td>5.0930</td>\n",
       "      <td>11.4607</td>\n",
       "      <td>-9.2834</td>\n",
       "      <td>5.1187</td>\n",
       "      <td>18.6266</td>\n",
       "      <td>-4.9200</td>\n",
       "      <td>5.7470</td>\n",
       "      <td>...</td>\n",
       "      <td>4.4354</td>\n",
       "      <td>3.9642</td>\n",
       "      <td>3.1364</td>\n",
       "      <td>1.6910</td>\n",
       "      <td>18.5227</td>\n",
       "      <td>-2.3978</td>\n",
       "      <td>7.8784</td>\n",
       "      <td>8.5635</td>\n",
       "      <td>12.7803</td>\n",
       "      <td>-1.0914</td>\n",
       "    </tr>\n",
       "    <tr>\n",
       "      <th>1</th>\n",
       "      <td>11.5006</td>\n",
       "      <td>-4.1473</td>\n",
       "      <td>13.8588</td>\n",
       "      <td>5.3890</td>\n",
       "      <td>12.3622</td>\n",
       "      <td>7.0433</td>\n",
       "      <td>5.6208</td>\n",
       "      <td>16.5338</td>\n",
       "      <td>3.1468</td>\n",
       "      <td>8.0851</td>\n",
       "      <td>...</td>\n",
       "      <td>7.6421</td>\n",
       "      <td>7.7214</td>\n",
       "      <td>2.5837</td>\n",
       "      <td>10.9516</td>\n",
       "      <td>15.4305</td>\n",
       "      <td>2.0339</td>\n",
       "      <td>8.1267</td>\n",
       "      <td>8.7889</td>\n",
       "      <td>18.3560</td>\n",
       "      <td>1.9518</td>\n",
       "    </tr>\n",
       "    <tr>\n",
       "      <th>2</th>\n",
       "      <td>8.6093</td>\n",
       "      <td>-2.7457</td>\n",
       "      <td>12.0805</td>\n",
       "      <td>7.8928</td>\n",
       "      <td>10.5825</td>\n",
       "      <td>-9.0837</td>\n",
       "      <td>6.9427</td>\n",
       "      <td>14.6155</td>\n",
       "      <td>-4.9193</td>\n",
       "      <td>5.9525</td>\n",
       "      <td>...</td>\n",
       "      <td>2.9057</td>\n",
       "      <td>9.7905</td>\n",
       "      <td>1.6704</td>\n",
       "      <td>1.6858</td>\n",
       "      <td>21.6042</td>\n",
       "      <td>3.1417</td>\n",
       "      <td>-6.5213</td>\n",
       "      <td>8.2675</td>\n",
       "      <td>14.7222</td>\n",
       "      <td>0.3965</td>\n",
       "    </tr>\n",
       "    <tr>\n",
       "      <th>3</th>\n",
       "      <td>11.0604</td>\n",
       "      <td>-2.1518</td>\n",
       "      <td>8.9522</td>\n",
       "      <td>7.1957</td>\n",
       "      <td>12.5846</td>\n",
       "      <td>-1.8361</td>\n",
       "      <td>5.8428</td>\n",
       "      <td>14.9250</td>\n",
       "      <td>-5.8609</td>\n",
       "      <td>8.2450</td>\n",
       "      <td>...</td>\n",
       "      <td>4.4666</td>\n",
       "      <td>4.7433</td>\n",
       "      <td>0.7178</td>\n",
       "      <td>1.4214</td>\n",
       "      <td>23.0347</td>\n",
       "      <td>-1.2706</td>\n",
       "      <td>-2.9275</td>\n",
       "      <td>10.2922</td>\n",
       "      <td>17.9697</td>\n",
       "      <td>-8.9996</td>\n",
       "    </tr>\n",
       "    <tr>\n",
       "      <th>4</th>\n",
       "      <td>9.8369</td>\n",
       "      <td>-1.4834</td>\n",
       "      <td>12.8746</td>\n",
       "      <td>6.6375</td>\n",
       "      <td>12.2772</td>\n",
       "      <td>2.4486</td>\n",
       "      <td>5.9405</td>\n",
       "      <td>19.2514</td>\n",
       "      <td>6.2654</td>\n",
       "      <td>7.6784</td>\n",
       "      <td>...</td>\n",
       "      <td>-1.4905</td>\n",
       "      <td>9.5214</td>\n",
       "      <td>-0.1508</td>\n",
       "      <td>9.1942</td>\n",
       "      <td>13.2876</td>\n",
       "      <td>-1.5121</td>\n",
       "      <td>3.9267</td>\n",
       "      <td>9.5031</td>\n",
       "      <td>17.9974</td>\n",
       "      <td>-8.8104</td>\n",
       "    </tr>\n",
       "  </tbody>\n",
       "</table>\n",
       "<p>5 rows × 200 columns</p>\n",
       "</div>"
      ],
      "text/plain": [
       "     var_0   var_1    var_2   var_3    var_4   var_5   var_6    var_7   var_8  \\\n",
       "0   8.9255 -6.7863  11.9081  5.0930  11.4607 -9.2834  5.1187  18.6266 -4.9200   \n",
       "1  11.5006 -4.1473  13.8588  5.3890  12.3622  7.0433  5.6208  16.5338  3.1468   \n",
       "2   8.6093 -2.7457  12.0805  7.8928  10.5825 -9.0837  6.9427  14.6155 -4.9193   \n",
       "3  11.0604 -2.1518   8.9522  7.1957  12.5846 -1.8361  5.8428  14.9250 -5.8609   \n",
       "4   9.8369 -1.4834  12.8746  6.6375  12.2772  2.4486  5.9405  19.2514  6.2654   \n",
       "\n",
       "    var_9  ...  var_190  var_191  var_192  var_193  var_194  var_195  var_196  \\\n",
       "0  5.7470  ...   4.4354   3.9642   3.1364   1.6910  18.5227  -2.3978   7.8784   \n",
       "1  8.0851  ...   7.6421   7.7214   2.5837  10.9516  15.4305   2.0339   8.1267   \n",
       "2  5.9525  ...   2.9057   9.7905   1.6704   1.6858  21.6042   3.1417  -6.5213   \n",
       "3  8.2450  ...   4.4666   4.7433   0.7178   1.4214  23.0347  -1.2706  -2.9275   \n",
       "4  7.6784  ...  -1.4905   9.5214  -0.1508   9.1942  13.2876  -1.5121   3.9267   \n",
       "\n",
       "   var_197  var_198  var_199  \n",
       "0   8.5635  12.7803  -1.0914  \n",
       "1   8.7889  18.3560   1.9518  \n",
       "2   8.2675  14.7222   0.3965  \n",
       "3  10.2922  17.9697  -8.9996  \n",
       "4   9.5031  17.9974  -8.8104  \n",
       "\n",
       "[5 rows x 200 columns]"
      ]
     },
     "execution_count": 7,
     "metadata": {},
     "output_type": "execute_result"
    }
   ],
   "source": [
    "X_train.head()"
   ]
  },
  {
   "cell_type": "code",
   "execution_count": 8,
   "metadata": {
    "colab": {},
    "colab_type": "code",
    "id": "OiUrP7sW55xY"
   },
   "outputs": [],
   "source": [
    "train_correlations = X_train.corr()\n",
    "test_correlations = X_test.corr()\n",
    "train_correlations = train_correlations.values.flatten()\n",
    "test_correlations = test_correlations.values.flatten()\n",
    "train_correlations = train_correlations[train_correlations != 1]\n",
    "test_correlations = test_correlations[test_correlations != 1]\n"
   ]
  },
  {
   "cell_type": "code",
   "execution_count": 9,
   "metadata": {
    "colab": {
     "base_uri": "https://localhost:8080/",
     "height": 375
    },
    "colab_type": "code",
    "executionInfo": {
     "elapsed": 1650,
     "status": "ok",
     "timestamp": 1573441674955,
     "user": {
      "displayName": "Harshitha y",
      "photoUrl": "",
      "userId": "09215560329749583241"
     },
     "user_tz": 480
    },
    "id": "rOTsmhSpbeHK",
    "outputId": "792b588f-b9b3-412c-d8f4-0c2615a92be4"
   },
   "outputs": [
    {
     "name": "stderr",
     "output_type": "stream",
     "text": [
      "/anaconda3/lib/python3.7/site-packages/scipy/stats/stats.py:1713: FutureWarning: Using a non-tuple sequence for multidimensional indexing is deprecated; use `arr[tuple(seq)]` instead of `arr[seq]`. In the future this will be interpreted as an array index, `arr[np.array(seq)]`, which will result either in an error or a different result.\n",
      "  return np.add.reduce(sorted[indexer] * weights, axis=axis) / sumval\n"
     ]
    },
    {
     "data": {
      "image/png": "[encoded data removed]",
      "text/plain": [
       "<Figure size 1440x360 with 1 Axes>"
      ]
     },
     "metadata": {
      "needs_background": "light"
     },
     "output_type": "display_data"
    }
   ],
   "source": [
    "plt.figure(figsize=(20,5))\n",
    "sns.distplot(train_correlations, color=\"Red\", label=\"train\")\n",
    "sns.distplot(test_correlations, color=\"Green\", label=\"test\")\n",
    "plt.xlabel(\"Correlation values (Train and Test Except one) \")\n",
    "plt.ylabel(\"Density\")\n",
    "plt.title(\"correlation between features\"); \n",
    "plt.legend();"
   ]
  },
  {
   "cell_type": "code",
   "execution_count": 10,
   "metadata": {
    "colab": {},
    "colab_type": "code",
    "id": "d-1n_2W_1pmk"
   },
   "outputs": [],
   "source": [
    "idx = features = X_train.columns.values\n",
    "for df in [X_test, X_train]:\n",
    "    df['sum'] = df[idx].sum(axis=1)  \n",
    "    df['min'] = df[idx].min(axis=1)\n",
    "    df['max'] = df[idx].max(axis=1)\n",
    "    df['mean'] = df[idx].mean(axis=1)\n",
    "    df['std'] = df[idx].std(axis=1)\n",
    "    df['skew'] = df[idx].skew(axis=1)\n",
    "    df['kurt'] = df[idx].kurtosis(axis=1)\n",
    "    df['med'] = df[idx].median(axis=1)"
   ]
  },
  {
   "cell_type": "code",
   "execution_count": 11,
   "metadata": {
    "colab": {
     "base_uri": "https://localhost:8080/",
     "height": 34
    },
    "colab_type": "code",
    "executionInfo": {
     "elapsed": 633,
     "status": "ok",
     "timestamp": 1573441694127,
     "user": {
      "displayName": "Harshitha y",
      "photoUrl": "",
      "userId": "09215560329749583241"
     },
     "user_tz": 480
    },
    "id": "bc-sDrRr1wCd",
    "outputId": "d55ca150-6a03-424d-95af-06ba4ae9b911"
   },
   "outputs": [
    {
     "data": {
      "text/plain": [
       "(200000, 208)"
      ]
     },
     "execution_count": 11,
     "metadata": {},
     "output_type": "execute_result"
    }
   ],
   "source": [
    "X_train.shape"
   ]
  },
  {
   "cell_type": "code",
   "execution_count": 12,
   "metadata": {
    "colab": {
     "base_uri": "https://localhost:8080/",
     "height": 34
    },
    "colab_type": "code",
    "executionInfo": {
     "elapsed": 804,
     "status": "ok",
     "timestamp": 1573441696489,
     "user": {
      "displayName": "Harshitha y",
      "photoUrl": "",
      "userId": "09215560329749583241"
     },
     "user_tz": 480
    },
    "id": "hp4ClKUX1xUn",
    "outputId": "b8c45e18-3639-472a-88f8-7609ac7e8ac0"
   },
   "outputs": [
    {
     "data": {
      "text/plain": [
       "(200000, 208)"
      ]
     },
     "execution_count": 12,
     "metadata": {},
     "output_type": "execute_result"
    }
   ],
   "source": [
    "X_test.shape"
   ]
  },
  {
   "cell_type": "code",
   "execution_count": 13,
   "metadata": {
    "colab": {
     "base_uri": "https://localhost:8080/",
     "height": 34
    },
    "colab_type": "code",
    "executionInfo": {
     "elapsed": 858,
     "status": "ok",
     "timestamp": 1573441733120,
     "user": {
      "displayName": "Harshitha y",
      "photoUrl": "",
      "userId": "09215560329749583241"
     },
     "user_tz": 480
    },
    "id": "RigTnW-HbzX6",
    "outputId": "d8b341d8-bc77-4fc0-ec23-d0708e06f64e"
   },
   "outputs": [
    {
     "name": "stdout",
     "output_type": "stream",
     "text": [
      "208\n"
     ]
    }
   ],
   "source": [
    "features =  X_train.columns.values\n",
    "print(len(features))"
   ]
  },
  {
   "cell_type": "code",
   "execution_count": 14,
   "metadata": {
    "colab": {},
    "colab_type": "code",
    "id": "6R-DmvhIb6bO"
   },
   "outputs": [],
   "source": [
    "param = {\n",
    "    'bagging_freq': 6,\n",
    "    'bagging_fraction': 0.5,\n",
    "    'boost_from_average':'false',\n",
    "    'boost': 'gbdt',\n",
    "    'feature_fraction': 0.05,\n",
    "    'learning_rate': 0.01,\n",
    "    'max_depth': 0,  \n",
    "    'metric':'auc',\n",
    "    'min_data_in_leaf': 78,\n",
    "    'min_sum_hessian_in_leaf': 10.0,\n",
    "    'num_leaves': 13,\n",
    "    'num_threads': 8,\n",
    "    'tree_learner': 'serial',\n",
    "    'objective': 'binary', \n",
    "    'verbosity': 1\n",
    "}"
   ]
  },
  {
   "cell_type": "code",
   "execution_count": 15,
   "metadata": {
    "colab": {},
    "colab_type": "code",
    "id": "S7NMce5OcKBq"
   },
   "outputs": [],
   "source": [
    "folds = StratifiedKFold(n_splits=10, shuffle=False, random_state=44000)\n",
    "oof = np.zeros(len(X_train))\n",
    "predictions = np.zeros(len(X_test))"
   ]
  },
  {
   "cell_type": "code",
   "execution_count": 16,
   "metadata": {
    "colab": {
     "base_uri": "https://localhost:8080/",
     "height": 1000
    },
    "colab_type": "code",
    "executionInfo": {
     "elapsed": 82,
     "status": "ok",
     "timestamp": 1573447551562,
     "user": {
      "displayName": "Harshitha y",
      "photoUrl": "",
      "userId": "09215560329749583241"
     },
     "user_tz": 480
    },
    "id": "d5Aq2DrbcM9X",
    "outputId": "3413606f-a39b-48d3-8643-1457a4eb92a8"
   },
   "outputs": [
    {
     "name": "stdout",
     "output_type": "stream",
     "text": [
      "Fold 0\n",
      "Training until validation scores don't improve for 3000 rounds\n",
      "[1000]\ttraining's auc: 0.899997\tvalid_1's auc: 0.881129\n",
      "[2000]\ttraining's auc: 0.91084\tvalid_1's auc: 0.887791\n",
      "[3000]\ttraining's auc: 0.918603\tvalid_1's auc: 0.892182\n",
      "[4000]\ttraining's auc: 0.924622\tvalid_1's auc: 0.894931\n",
      "[5000]\ttraining's auc: 0.929699\tvalid_1's auc: 0.896792\n",
      "[6000]\ttraining's auc: 0.93407\tvalid_1's auc: 0.898076\n",
      "[7000]\ttraining's auc: 0.938106\tvalid_1's auc: 0.898839\n",
      "[8000]\ttraining's auc: 0.941823\tvalid_1's auc: 0.899363\n",
      "[9000]\ttraining's auc: 0.945421\tvalid_1's auc: 0.89958\n",
      "[10000]\ttraining's auc: 0.948798\tvalid_1's auc: 0.899905\n",
      "Did not meet early stopping. Best iteration is:\n",
      "[10000]\ttraining's auc: 0.948798\tvalid_1's auc: 0.899905\n",
      "Fold 1\n",
      "Training until validation scores don't improve for 3000 rounds\n",
      "[1000]\ttraining's auc: 0.89977\tvalid_1's auc: 0.881652\n",
      "[2000]\ttraining's auc: 0.910619\tvalid_1's auc: 0.888913\n",
      "[3000]\ttraining's auc: 0.91849\tvalid_1's auc: 0.893194\n",
      "[4000]\ttraining's auc: 0.924701\tvalid_1's auc: 0.895522\n",
      "[5000]\ttraining's auc: 0.929817\tvalid_1's auc: 0.896967\n",
      "[6000]\ttraining's auc: 0.934162\tvalid_1's auc: 0.897752\n",
      "[7000]\ttraining's auc: 0.938215\tvalid_1's auc: 0.898432\n",
      "[8000]\ttraining's auc: 0.941971\tvalid_1's auc: 0.898838\n",
      "[9000]\ttraining's auc: 0.945505\tvalid_1's auc: 0.898898\n",
      "[10000]\ttraining's auc: 0.94884\tvalid_1's auc: 0.898761\n",
      "Did not meet early stopping. Best iteration is:\n",
      "[10000]\ttraining's auc: 0.94884\tvalid_1's auc: 0.898761\n",
      "Fold 2\n",
      "Training until validation scores don't improve for 3000 rounds\n",
      "[1000]\ttraining's auc: 0.900519\tvalid_1's auc: 0.875394\n",
      "[2000]\ttraining's auc: 0.911455\tvalid_1's auc: 0.883435\n",
      "[3000]\ttraining's auc: 0.919282\tvalid_1's auc: 0.888565\n",
      "[4000]\ttraining's auc: 0.925262\tvalid_1's auc: 0.891259\n",
      "[5000]\ttraining's auc: 0.930175\tvalid_1's auc: 0.893012\n",
      "[6000]\ttraining's auc: 0.934512\tvalid_1's auc: 0.893831\n",
      "[7000]\ttraining's auc: 0.938412\tvalid_1's auc: 0.894274\n",
      "[8000]\ttraining's auc: 0.942149\tvalid_1's auc: 0.894663\n",
      "[9000]\ttraining's auc: 0.945755\tvalid_1's auc: 0.894868\n",
      "[10000]\ttraining's auc: 0.949138\tvalid_1's auc: 0.894878\n",
      "Did not meet early stopping. Best iteration is:\n",
      "[10000]\ttraining's auc: 0.949138\tvalid_1's auc: 0.894878\n",
      "Fold 3\n",
      "Training until validation scores don't improve for 3000 rounds\n",
      "[1000]\ttraining's auc: 0.899577\tvalid_1's auc: 0.881712\n",
      "[2000]\ttraining's auc: 0.910613\tvalid_1's auc: 0.889414\n",
      "[3000]\ttraining's auc: 0.918461\tvalid_1's auc: 0.893742\n",
      "[4000]\ttraining's auc: 0.924572\tvalid_1's auc: 0.896242\n",
      "[5000]\ttraining's auc: 0.929567\tvalid_1's auc: 0.897596\n",
      "[6000]\ttraining's auc: 0.933972\tvalid_1's auc: 0.898287\n",
      "[7000]\ttraining's auc: 0.937953\tvalid_1's auc: 0.898662\n",
      "[8000]\ttraining's auc: 0.941689\tvalid_1's auc: 0.898635\n",
      "[9000]\ttraining's auc: 0.945249\tvalid_1's auc: 0.898611\n",
      "[10000]\ttraining's auc: 0.948621\tvalid_1's auc: 0.898401\n",
      "Did not meet early stopping. Best iteration is:\n",
      "[10000]\ttraining's auc: 0.948621\tvalid_1's auc: 0.898401\n",
      "Fold 4\n",
      "Training until validation scores don't improve for 3000 rounds\n",
      "[1000]\ttraining's auc: 0.899548\tvalid_1's auc: 0.88279\n",
      "[2000]\ttraining's auc: 0.910579\tvalid_1's auc: 0.889559\n",
      "[3000]\ttraining's auc: 0.918579\tvalid_1's auc: 0.893689\n",
      "[4000]\ttraining's auc: 0.924673\tvalid_1's auc: 0.896353\n",
      "[5000]\ttraining's auc: 0.929732\tvalid_1's auc: 0.897849\n",
      "[6000]\ttraining's auc: 0.934136\tvalid_1's auc: 0.898609\n",
      "[7000]\ttraining's auc: 0.938098\tvalid_1's auc: 0.899046\n",
      "[8000]\ttraining's auc: 0.941831\tvalid_1's auc: 0.899309\n",
      "[9000]\ttraining's auc: 0.945364\tvalid_1's auc: 0.899291\n",
      "[10000]\ttraining's auc: 0.948725\tvalid_1's auc: 0.899539\n",
      "Did not meet early stopping. Best iteration is:\n",
      "[10000]\ttraining's auc: 0.948725\tvalid_1's auc: 0.899539\n",
      "Fold 5\n",
      "Training until validation scores don't improve for 3000 rounds\n",
      "[1000]\ttraining's auc: 0.899307\tvalid_1's auc: 0.886903\n",
      "[2000]\ttraining's auc: 0.910164\tvalid_1's auc: 0.894485\n",
      "[3000]\ttraining's auc: 0.91805\tvalid_1's auc: 0.89794\n",
      "[4000]\ttraining's auc: 0.924226\tvalid_1's auc: 0.900599\n",
      "[5000]\ttraining's auc: 0.929278\tvalid_1's auc: 0.901864\n",
      "[6000]\ttraining's auc: 0.933729\tvalid_1's auc: 0.902742\n",
      "[7000]\ttraining's auc: 0.93772\tvalid_1's auc: 0.903077\n",
      "[8000]\ttraining's auc: 0.941457\tvalid_1's auc: 0.90335\n",
      "[9000]\ttraining's auc: 0.945069\tvalid_1's auc: 0.903409\n",
      "[10000]\ttraining's auc: 0.948484\tvalid_1's auc: 0.90347\n",
      "Did not meet early stopping. Best iteration is:\n",
      "[10000]\ttraining's auc: 0.948484\tvalid_1's auc: 0.90347\n",
      "Fold 6\n",
      "Training until validation scores don't improve for 3000 rounds\n",
      "[1000]\ttraining's auc: 0.899351\tvalid_1's auc: 0.883829\n",
      "[2000]\ttraining's auc: 0.910348\tvalid_1's auc: 0.891253\n",
      "[3000]\ttraining's auc: 0.918366\tvalid_1's auc: 0.895537\n",
      "[4000]\ttraining's auc: 0.924421\tvalid_1's auc: 0.897991\n",
      "[5000]\ttraining's auc: 0.929529\tvalid_1's auc: 0.899474\n",
      "[6000]\ttraining's auc: 0.933882\tvalid_1's auc: 0.900193\n",
      "[7000]\ttraining's auc: 0.937895\tvalid_1's auc: 0.900703\n",
      "[8000]\ttraining's auc: 0.941655\tvalid_1's auc: 0.900891\n",
      "[9000]\ttraining's auc: 0.945239\tvalid_1's auc: 0.901008\n",
      "[10000]\ttraining's auc: 0.948602\tvalid_1's auc: 0.900859\n",
      "Did not meet early stopping. Best iteration is:\n",
      "[10000]\ttraining's auc: 0.948602\tvalid_1's auc: 0.900859\n",
      "Fold 7\n",
      "Training until validation scores don't improve for 3000 rounds\n",
      "[1000]\ttraining's auc: 0.899489\tvalid_1's auc: 0.880103\n",
      "[2000]\ttraining's auc: 0.91063\tvalid_1's auc: 0.88825\n",
      "[3000]\ttraining's auc: 0.918544\tvalid_1's auc: 0.893298\n",
      "[4000]\ttraining's auc: 0.924513\tvalid_1's auc: 0.896237\n",
      "[5000]\ttraining's auc: 0.929553\tvalid_1's auc: 0.898122\n",
      "[6000]\ttraining's auc: 0.933878\tvalid_1's auc: 0.899129\n",
      "[7000]\ttraining's auc: 0.937925\tvalid_1's auc: 0.899814\n",
      "[8000]\ttraining's auc: 0.941602\tvalid_1's auc: 0.899986\n",
      "[9000]\ttraining's auc: 0.945219\tvalid_1's auc: 0.899982\n",
      "[10000]\ttraining's auc: 0.948573\tvalid_1's auc: 0.900024\n",
      "Did not meet early stopping. Best iteration is:\n",
      "[10000]\ttraining's auc: 0.948573\tvalid_1's auc: 0.900024\n",
      "Fold 8\n",
      "Training until validation scores don't improve for 3000 rounds\n",
      "[1000]\ttraining's auc: 0.899171\tvalid_1's auc: 0.888489\n",
      "[2000]\ttraining's auc: 0.910193\tvalid_1's auc: 0.89646\n",
      "[3000]\ttraining's auc: 0.917945\tvalid_1's auc: 0.900226\n",
      "[4000]\ttraining's auc: 0.924125\tvalid_1's auc: 0.90262\n",
      "[5000]\ttraining's auc: 0.929184\tvalid_1's auc: 0.903957\n",
      "[6000]\ttraining's auc: 0.933603\tvalid_1's auc: 0.904786\n",
      "[7000]\ttraining's auc: 0.937577\tvalid_1's auc: 0.905067\n",
      "[8000]\ttraining's auc: 0.941334\tvalid_1's auc: 0.905137\n",
      "[9000]\ttraining's auc: 0.944896\tvalid_1's auc: 0.905384\n",
      "[10000]\ttraining's auc: 0.948346\tvalid_1's auc: 0.905299\n",
      "Did not meet early stopping. Best iteration is:\n",
      "[10000]\ttraining's auc: 0.948346\tvalid_1's auc: 0.905299\n",
      "Fold 9\n",
      "Training until validation scores don't improve for 3000 rounds\n",
      "[1000]\ttraining's auc: 0.899646\tvalid_1's auc: 0.884127\n",
      "[2000]\ttraining's auc: 0.910654\tvalid_1's auc: 0.891007\n",
      "[3000]\ttraining's auc: 0.918547\tvalid_1's auc: 0.895235\n",
      "[4000]\ttraining's auc: 0.924676\tvalid_1's auc: 0.897757\n",
      "[5000]\ttraining's auc: 0.929771\tvalid_1's auc: 0.899146\n",
      "[6000]\ttraining's auc: 0.93418\tvalid_1's auc: 0.900251\n",
      "[7000]\ttraining's auc: 0.938227\tvalid_1's auc: 0.900775\n",
      "[8000]\ttraining's auc: 0.941954\tvalid_1's auc: 0.901074\n",
      "[9000]\ttraining's auc: 0.945492\tvalid_1's auc: 0.901208\n",
      "[10000]\ttraining's auc: 0.948892\tvalid_1's auc: 0.901353\n",
      "Did not meet early stopping. Best iteration is:\n",
      "[10000]\ttraining's auc: 0.948892\tvalid_1's auc: 0.901353\n"
     ]
    }
   ],
   "source": [
    "for fold_, (trn_idx, val_idx) in enumerate(folds.split(X_train.values, y_train.values)):\n",
    "    print(\"Fold {}\".format(fold_))\n",
    "    trn_data = lgb.Dataset(X_train.iloc[trn_idx][features], label=y_train.iloc[trn_idx])\n",
    "    val_data = lgb.Dataset(X_train.iloc[val_idx][features], label=y_train.iloc[val_idx])\n",
    "    num_round = 10000\n",
    "    clf = lgb.train(param, trn_data, num_round, valid_sets = [trn_data, val_data], verbose_eval=1000, early_stopping_rounds = 3000)\n",
    "    oof[val_idx] = clf.predict(X_train.iloc[val_idx][features], num_iteration=clf.best_iteration)\n",
    "    \n",
    "    predictions += clf.predict(X_test[features], num_iteration=clf.best_iteration) / folds.n_splits\n",
    "    "
   ]
  },
  {
   "cell_type": "code",
   "execution_count": 42,
   "metadata": {
    "colab": {
     "base_uri": "https://localhost:8080/",
     "height": 51
    },
    "colab_type": "code",
    "executionInfo": {
     "elapsed": 851,
     "status": "ok",
     "timestamp": 1573447672031,
     "user": {
      "displayName": "Harshitha y",
      "photoUrl": "",
      "userId": "09215560329749583241"
     },
     "user_tz": 480
    },
    "id": "ofKOa2A3yhcM",
    "outputId": "35f6d8c9-684d-48be-e581-3efc646e781c"
   },
   "outputs": [
    {
     "data": {
      "text/plain": [
       "array([0.10195761, 0.21302605, 0.19174548, ..., 0.00451427, 0.0963279 ,\n",
       "       0.06054935])"
      ]
     },
     "execution_count": 42,
     "metadata": {
      "tags": []
     },
     "output_type": "execute_result"
    }
   ],
   "source": [
    "predictions"
   ]
  },
  {
   "cell_type": "code",
   "execution_count": 18,
   "metadata": {},
   "outputs": [
    {
     "name": "stdout",
     "output_type": "stream",
     "text": [
      "CV score: 0.90022 \n"
     ]
    }
   ],
   "source": [
    "print(\"CV score: {:<8.5f}\".format(roc_auc_score(y_train, oof)))"
   ]
  },
  {
   "cell_type": "code",
   "execution_count": 20,
   "metadata": {},
   "outputs": [
    {
     "data": {
      "image/png": "[encoded data removed]",
      "text/plain": [
       "<Figure size 432x288 with 1 Axes>"
      ]
     },
     "metadata": {
      "needs_background": "light"
     },
     "output_type": "display_data"
    }
   ],
   "source": [
    "fpr, tpr, thresholds = roc_curve(y_train, oof)\n",
    "plt.plot(fpr, tpr, color='orange', label='ROC')\n",
    "plt.plot([0, 1], [0, 1], color='darkblue', linestyle='--')\n",
    "plt.xlabel('False Positive Rate')\n",
    "plt.ylabel('True Positive Rate')\n",
    "plt.title('Receiver Operating Characteristic (ROC) Curve')\n",
    "plt.legend()\n",
    "plt.show()"
   ]
  },
  {
   "cell_type": "code",
   "execution_count": 21,
   "metadata": {
    "colab": {},
    "colab_type": "code",
    "id": "pjJpCxwRyPJT"
   },
   "outputs": [],
   "source": [
    "sub_df = pd.DataFrame({\"ID_code\":data_test[\"ID_code\"].values})\n",
    "sub_df[\"target\"] = predictions\n",
    "sub_df.to_csv(\"submission_LGB_final.csv\", index=False)"
   ]
  },
  {
   "cell_type": "code",
   "execution_count": null,
   "metadata": {},
   "outputs": [],
   "source": []
  }
 ],
 "metadata": {
  "accelerator": "GPU",
  "colab": {
   "collapsed_sections": [],
   "name": "Santander_LGB.ipynb",
   "provenance": [],
   "toc_visible": true
  },
  "kernelspec": {
   "display_name": "Python 3",
   "language": "python",
   "name": "python3"
  },
  "language_info": {
   "codemirror_mode": {
    "name": "ipython",
    "version": 3
   },
   "file_extension": ".py",
   "mimetype": "text/x-python",
   "name": "python",
   "nbconvert_exporter": "python",
   "pygments_lexer": "ipython3",
   "version": "3.7.1"
  }
 },
 "nbformat": 4,
 "nbformat_minor": 1
}
